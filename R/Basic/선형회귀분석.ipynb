{
 "cells": [
  {
   "cell_type": "markdown",
   "id": "8b38ac3d-8374-4a68-90d4-751608804e7d",
   "metadata": {},
   "source": [
    "# 선형회귀분석\n",
    "최소제곱법(least squares method)를 사용해 정량적인 결과를 예측하는 기법  \n",
    "[notion](https://www.notion.so/Regression-Analysis-d16b4a36688c4ba7bb1fc98035d11ed5?pvs=4)"
   ]
  },
  {
   "cell_type": "markdown",
   "id": "27194427-7b1c-46ab-81f2-82df22584b3c",
   "metadata": {},
   "source": [
    "## 단변량 선형회귀\n"
   ]
  },
  {
   "cell_type": "code",
   "execution_count": null,
   "id": "5c99ce83-cfaa-48db-9274-7fd78ea84745",
   "metadata": {},
   "outputs": [],
   "source": []
  },
  {
   "cell_type": "code",
   "execution_count": null,
   "id": "40908a07-4898-4891-943f-c402971e33a7",
   "metadata": {},
   "outputs": [],
   "source": []
  }
 ],
 "metadata": {
  "kernelspec": {
   "display_name": "R",
   "language": "R",
   "name": "ir"
  },
  "language_info": {
   "codemirror_mode": "r",
   "file_extension": ".r",
   "mimetype": "text/x-r-source",
   "name": "R",
   "pygments_lexer": "r",
   "version": "4.3.2"
  }
 },
 "nbformat": 4,
 "nbformat_minor": 5
}
