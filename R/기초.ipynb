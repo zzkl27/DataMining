{
 "cells": [
  {
   "cell_type": "markdown",
   "id": "109af607-c02d-44e5-8720-b0504624f255",
   "metadata": {},
   "source": [
    "# 1. 변수"
   ]
  },
  {
   "cell_type": "markdown",
   "id": "0d428454-b7de-455a-a36a-09f3500295be",
   "metadata": {
    "jp-MarkdownHeadingCollapsed": true
   },
   "source": [
    "## 1) 벡터(Vector)\n",
    "가장 기본이 되는 데이터 타입"
   ]
  },
  {
   "cell_type": "markdown",
   "id": "4d5d1500-ec14-4e1f-a41d-35ee25a999d7",
   "metadata": {
    "jp-MarkdownHeadingCollapsed": true
   },
   "source": [
    "### [1] 스칼라\n",
    "스칼라는 벡터의 일종으로 한개의 값을 가진다."
   ]
  },
  {
   "cell_type": "code",
   "execution_count": 11,
   "id": "6c3eab4f-7411-4c55-956f-79d5018b6141",
   "metadata": {},
   "outputs": [
    {
     "name": "stdout",
     "output_type": "stream",
     "text": [
      "[1] \"numeric\"\n",
      "[1] \"numeric\"\n"
     ]
    }
   ],
   "source": [
    "x <- 1 # 숫자\n",
    "print(class(x))\n",
    "y <- 1.1 # 숫자\n",
    "print(class(y))\n",
    "# 소수와 정수 구분없이 numeric으로 분류"
   ]
  },
  {
   "cell_type": "code",
   "execution_count": 13,
   "id": "651f827f-9fbb-4c5a-87d6-5b0a274cfb90",
   "metadata": {},
   "outputs": [
    {
     "name": "stdout",
     "output_type": "stream",
     "text": [
      "[1] \"character\"\n",
      "[1] \"character\"\n"
     ]
    }
   ],
   "source": [
    "x <- \"a\" # 문자\n",
    "print(class(x))\n",
    "y <- \"assss\" # 문자열\n",
    "print(class(y))\n",
    "# 문자와 문자열 구분없이 character로 분류"
   ]
  },
  {
   "cell_type": "code",
   "execution_count": 14,
   "id": "6f65121a-21f1-4505-85ef-a383333355df",
   "metadata": {},
   "outputs": [
    {
     "name": "stdout",
     "output_type": "stream",
     "text": [
      "[1] \"logical\"\n",
      "[1] \"logical\"\n"
     ]
    }
   ],
   "source": [
    "x <- TRUE\n",
    "print(class(x))\n",
    "y <- T\n",
    "print(class(y))\n",
    "# TRUE,False 는 T,F로 사용할 수 있음, logical로 분류"
   ]
  },
  {
   "cell_type": "code",
   "execution_count": 23,
   "id": "f1631c74-99a8-49db-b432-d33b0068307f",
   "metadata": {},
   "outputs": [
    {
     "name": "stdout",
     "output_type": "stream",
     "text": [
      "[1] \"logical\"\n",
      "[1] NA\n"
     ]
    }
   ],
   "source": [
    "x <- NA # 결측값\n",
    "print(class(x))\n",
    "print(x)"
   ]
  },
  {
   "cell_type": "code",
   "execution_count": 25,
   "id": "54ddda40-3753-4021-a063-163cb7b6ffc6",
   "metadata": {},
   "outputs": [
    {
     "name": "stdout",
     "output_type": "stream",
     "text": [
      "[1] \"NULL\"\n",
      "NULL\n"
     ]
    }
   ],
   "source": [
    "x <- NULL # NULL값\n",
    "print(class(x))\n",
    "print(x)"
   ]
  },
  {
   "cell_type": "markdown",
   "id": "10380692-764d-4940-8c7e-cb1903ba22fb",
   "metadata": {},
   "source": [
    "NA 값은 결측값으로 값이 존재하지 않을 때 사용  \n",
    "NULL은 변수가 존재하지 않을 때 사용 -> NA는 변수는 존재하는데 값이 존재하지 않는다.(vector, list등의 변수의 일부에 포함된다.)"
   ]
  },
  {
   "cell_type": "markdown",
   "id": "9458a908-ad2b-4fad-9559-492b207bb370",
   "metadata": {},
   "source": [
    "### [2] 벡터"
   ]
  },
  {
   "cell_type": "code",
   "execution_count": 16,
   "id": "026163d9-e20e-4301-bfba-7a794a8774d5",
   "metadata": {},
   "outputs": [
    {
     "name": "stdout",
     "output_type": "stream",
     "text": [
      "[1] \"numeric\"\n",
      "[1] 1 2 3\n"
     ]
    }
   ],
   "source": [
    "# numeric 변수\n",
    "x <- c(1,2,3) # c()로 여러개의 값을 가지는 벡터를 생성\n",
    "print(class(x))\n",
    "print(x)"
   ]
  },
  {
   "cell_type": "code",
   "execution_count": 27,
   "id": "58aae94e-5da3-46bb-a0c1-42bc41ff74d7",
   "metadata": {},
   "outputs": [
    {
     "name": "stdout",
     "output_type": "stream",
     "text": [
      "[1] \"numeric\"\n",
      "[1] 1.1 2.0 3.0\n"
     ]
    }
   ],
   "source": [
    "x <- c(1.1, 2, 3) # 소수와 정수를 같이 묶어 벡터를 생성\n",
    "print(class(x))\n",
    "print(x) # 값이 소수로 나타난다."
   ]
  },
  {
   "cell_type": "code",
   "execution_count": 30,
   "id": "78188096-7cff-47a8-af36-65b8599bc8ee",
   "metadata": {},
   "outputs": [
    {
     "name": "stdout",
     "output_type": "stream",
     "text": [
      "[1] \"character\"\n",
      "[1] \"test\" \"1\"    \"1.2\"  \"TRUE\"\n"
     ]
    }
   ],
   "source": [
    "x <- c(\"test\", 1, 1.2, TRUE) # 문자, 숫자, 진리값이 같이 묶어 벡터를 생성\n",
    "print(class(x))\n",
    "print(x) # character로 생성된다."
   ]
  },
  {
   "cell_type": "code",
   "execution_count": 33,
   "id": "929a22ab-06e6-4e06-bb5f-0103d067d14d",
   "metadata": {},
   "outputs": [
    {
     "name": "stdout",
     "output_type": "stream",
     "text": [
      "[1] \"numeric\"\n",
      "[1] 1.1 1.0 1.0\n"
     ]
    }
   ],
   "source": [
    "x <- c(1.1, 1, TRUE) # 숫자, 진리값을 같이 묶어 벡터를 생성\n",
    "print(class(x))\n",
    "print(x) # 숫자(실수)로 생성된다."
   ]
  },
  {
   "cell_type": "markdown",
   "id": "6c333414-f850-4dd1-afcc-4780282c4017",
   "metadata": {},
   "source": [
    "[우선순위]  \n",
    "character > numeric(float) > numeric(int) > logical"
   ]
  },
  {
   "cell_type": "code",
   "execution_count": 34,
   "id": "773903d6-8f4d-44ff-9f86-8b6ca41c0441",
   "metadata": {},
   "outputs": [
    {
     "name": "stdout",
     "output_type": "stream",
     "text": [
      "[1] \"logical\"\n",
      " [1] FALSE FALSE FALSE FALSE FALSE FALSE FALSE FALSE FALSE FALSE\n"
     ]
    }
   ],
   "source": [
    "x <- vector(length=10, mode='logical') # 빈 벡터 생성(logical)\n",
    "print(class(x))\n",
    "print(x) # FALSE로 생성된다."
   ]
  },
  {
   "cell_type": "code",
   "execution_count": 35,
   "id": "29eff0fd-41bd-4c45-a16c-cc8ebd23ddc6",
   "metadata": {},
   "outputs": [
    {
     "name": "stdout",
     "output_type": "stream",
     "text": [
      "[1] \"numeric\"\n",
      " [1] 0 0 0 0 0 0 0 0 0 0\n"
     ]
    }
   ],
   "source": [
    "x <- vector(length=10, mode='numeric') # 빈 벡터 생성(numeric)\n",
    "print(class(x))\n",
    "print(x) # 0으로 생성된다.(int)"
   ]
  },
  {
   "cell_type": "code",
   "execution_count": 37,
   "id": "62d79a90-6380-4d7c-af44-024b15dd82b4",
   "metadata": {},
   "outputs": [
    {
     "name": "stdout",
     "output_type": "stream",
     "text": [
      "[1] \"character\"\n",
      " [1] \"\" \"\" \"\" \"\" \"\" \"\" \"\" \"\" \"\" \"\"\n"
     ]
    }
   ],
   "source": [
    "x <- vector(length=10, mode='character') # 빈 벡터 생성(character)\n",
    "print(class(x))\n",
    "print(x) # \"\"로 생성된다."
   ]
  },
  {
   "cell_type": "markdown",
   "id": "ec4ae814-fa7b-4370-ab73-ad51efc4f9cf",
   "metadata": {},
   "source": [
    "[빈 벡터 생성]  \n",
    "logical -> FALSE로 생성  \n",
    "numeric -> 0으로 생성  \n",
    "character -> \"\"로 생성"
   ]
  },
  {
   "cell_type": "code",
   "execution_count": 38,
   "id": "52d4b1ae-5bde-4ebe-a52e-a03628ff24ad",
   "metadata": {},
   "outputs": [
    {
     "name": "stdout",
     "output_type": "stream",
     "text": [
      "[1] \"numeric\"\n",
      "[1] 1 2 3\n"
     ]
    }
   ],
   "source": [
    "x <- c(1,2,3)\n",
    "x <- as.double(x) # 소수로 강제 변경\n",
    "print(class(x))\n",
    "print(x) # numeric으로 변경에 변화가 없다."
   ]
  },
  {
   "cell_type": "code",
   "execution_count": 40,
   "id": "974ab148-6a12-48d1-b207-5b6e3d24ac4d",
   "metadata": {},
   "outputs": [
    {
     "name": "stdout",
     "output_type": "stream",
     "text": [
      "[1] \"integer\"\n",
      "[1] 1 2 5\n"
     ]
    }
   ],
   "source": [
    "x <- c(1.1, 2.3, 5.6)\n",
    "x <- as.integer(x) # 정수로 강제 변경\n",
    "print(class(x))\n",
    "print(x) # class가 integer로 변경되며 소수점 아래를 버린다."
   ]
  },
  {
   "cell_type": "code",
   "execution_count": 43,
   "id": "a305c148-ea1a-4743-b276-fdd1c2372857",
   "metadata": {},
   "outputs": [
    {
     "name": "stderr",
     "output_type": "stream",
     "text": [
      "Warning message in eval(expr, envir, enclos):\n",
      "“NAs introduced by coercion”\n"
     ]
    },
    {
     "name": "stdout",
     "output_type": "stream",
     "text": [
      "[1] \"numeric\"\n",
      "[1]  NA  NA  NA 1.0 2.3  NA\n"
     ]
    }
   ],
   "source": [
    "x <- c(\"TRUE\", \"FALSE\", \"\", \"1\", \"2.3\", \"A\")\n",
    "x <- as.numeric(x) # 숫자로 변경\n",
    "print(class(x))\n",
    "print(x) # 숫자인 문자외에는 NA값으로 변경"
   ]
  },
  {
   "cell_type": "code",
   "execution_count": 45,
   "id": "94ed02db-8d75-4eac-a44b-4d389697604d",
   "metadata": {},
   "outputs": [
    {
     "name": "stdout",
     "output_type": "stream",
     "text": [
      "[1] \"numeric\"\n",
      "[1]  1  0 NA\n"
     ]
    }
   ],
   "source": [
    "x <- c(TRUE, FALSE, NA)\n",
    "x <- as.numeric(x) # 숫자로 변경\n",
    "print(class(x))\n",
    "print(x) # NA는 NA, FALSE는 0, TRUE는 1로 변경"
   ]
  },
  {
   "cell_type": "markdown",
   "id": "8b801cfb-b5ca-4ee1-8202-d98fabc0d2b1",
   "metadata": {},
   "source": [
    "[숫자로 변경]  \n",
    "\\<logical\\>  \n",
    "- TRUE -> 1  \n",
    "- FALSE -> 0  \n",
    "- NA -> NA\n",
    "\n",
    "\\<character\\>  \n",
    "- 일반 문자 -> NA  \n",
    "- 숫자인 문자 -> 숫자  "
   ]
  },
  {
   "cell_type": "code",
   "execution_count": 41,
   "id": "ab6ede4e-5c38-4a2c-885a-93c6f7a7c8a5",
   "metadata": {},
   "outputs": [
    {
     "name": "stdout",
     "output_type": "stream",
     "text": [
      "[1] \"logical\"\n",
      "[1]  TRUE  TRUE  TRUE FALSE  TRUE  TRUE\n"
     ]
    }
   ],
   "source": [
    "x <- c(1,2,3,0,-2,-3)\n",
    "x <- as.logical(x) # logical로 변경\n",
    "print(class(x))\n",
    "print(x) # 0이 아닌 값은 TRUE, 0은 FALSE로 변경된다."
   ]
  },
  {
   "cell_type": "code",
   "execution_count": 42,
   "id": "20fe5ea8-a9ce-4d08-ac86-3e41da2612a7",
   "metadata": {},
   "outputs": [
    {
     "name": "stdout",
     "output_type": "stream",
     "text": [
      "[1] \"logical\"\n",
      "[1] NA NA NA NA\n"
     ]
    }
   ],
   "source": [
    "x <- c(\"a\", \"b\", \"\", \"-1\")\n",
    "x <- as.logical(x) # logical로 변경\n",
    "print(class(x))\n",
    "print(x) # 모든 값이 NA로 변경된다."
   ]
  },
  {
   "cell_type": "markdown",
   "id": "8d9022fd-1618-4b49-b454-d082bb3928ef",
   "metadata": {},
   "source": [
    "[logical로 변환]  \n",
    "/< numeric />\n",
    "- 0 -> FALSE\n",
    "- 그외 -> TRUE\n",
    "\n",
    "\\< character \\>\n",
    "- 모든 문자 -> NA"
   ]
  },
  {
   "cell_type": "code",
   "execution_count": 47,
   "id": "66ed16d2-80c4-4aef-a24f-6205e6e4888b",
   "metadata": {},
   "outputs": [
    {
     "name": "stdout",
     "output_type": "stream",
     "text": [
      "[1] \"character\"\n",
      "[1] \"1\" \"2\" \"3\"\n"
     ]
    }
   ],
   "source": [
    "x <- c(1,2,3)\n",
    "x <- as.character(x) # 문자로 변환\n",
    "print(class(x))\n",
    "print(x)"
   ]
  },
  {
   "cell_type": "code",
   "execution_count": 48,
   "id": "4cc4962c-8a0e-4b55-99cd-b7da0c604deb",
   "metadata": {},
   "outputs": [
    {
     "name": "stdout",
     "output_type": "stream",
     "text": [
      "[1] \"character\"\n",
      "[1] \"TRUE\"  \"FALSE\"\n"
     ]
    }
   ],
   "source": [
    "x <- c(TRUE, FALSE)\n",
    "x <- as.character(x)\n",
    "print(class(x))\n",
    "print(x)"
   ]
  },
  {
   "cell_type": "markdown",
   "id": "1a2d2ed2-5f93-4884-b948-81f0fba045e4",
   "metadata": {},
   "source": [
    "[character로 변환]\n",
    "- 모든 값 -> 문자열"
   ]
  },
  {
   "cell_type": "markdown",
   "id": "f6c4d524-1c18-4dd4-938c-62006ef92bc0",
   "metadata": {
    "jp-MarkdownHeadingCollapsed": true
   },
   "source": [
    "## 2) 요인(Factor)  \n",
    "범주형 변수(Categorical) 변수를 위한 데이터 타입"
   ]
  },
  {
   "cell_type": "code",
   "execution_count": 1,
   "id": "0135267a-5f89-432e-bf78-900e71520281",
   "metadata": {},
   "outputs": [
    {
     "name": "stdout",
     "output_type": "stream",
     "text": [
      "[1] \"factor\"\n",
      "[1] male   female female male  \n",
      "Levels: female male\n"
     ]
    }
   ],
   "source": [
    "x <- c(\"male\", \"female\", \"female\", \"male\")\n",
    "x <- factor(x) # factor로 변환\n",
    "print(class(x))\n",
    "print(x)"
   ]
  },
  {
   "cell_type": "markdown",
   "id": "1d032d67-1834-453e-9775-2a3b9c9ce98b",
   "metadata": {},
   "source": [
    "벡터와 달리 levels이 생긴다."
   ]
  },
  {
   "cell_type": "code",
   "execution_count": 4,
   "id": "6d3015c4-ba2d-4b14-8bd5-f4baac02742c",
   "metadata": {},
   "outputs": [
    {
     "name": "stdout",
     "output_type": "stream",
     "text": [
      "[1] \"male\"   \"female\" \"female\" \"male\"  \n",
      "[1] 2 1 1 2\n"
     ]
    }
   ],
   "source": [
    "print(as.vector(x)) # vector로 변환\n",
    "# 문자열로 생성\n",
    "print(as.numeric(x)) # numeric으로 변환\n",
    "# levels에 따라 숫자를 부여(female -> 1, male ->2)"
   ]
  },
  {
   "cell_type": "code",
   "execution_count": 9,
   "id": "fc9f493a-d783-4097-af57-910a43a5e902",
   "metadata": {},
   "outputs": [
    {
     "name": "stdout",
     "output_type": "stream",
     "text": [
      "[1] male   female female male  \n",
      "Levels: male female\n",
      "[1] 1 2 2 1\n"
     ]
    }
   ],
   "source": [
    "x <- c(\"male\", \"female\", \"female\", \"male\")\n",
    "fx <- factor(x, levels=c(\"male\", \"female\")) # levels를 생성\n",
    "print(fx)\n",
    "print(as.numeric(fx)) # level에 따라 숫자가 변경"
   ]
  },
  {
   "cell_type": "code",
   "execution_count": 10,
   "id": "bc121494-26be-439f-b296-4d5e02c333bf",
   "metadata": {},
   "outputs": [
    {
     "name": "stdout",
     "output_type": "stream",
     "text": [
      "[1] male   female female male  \n",
      "Levels: none male female\n"
     ]
    }
   ],
   "source": [
    "fx <- factor(x, levels=c(\"none\", \"male\", \"female\")) # 값이 존재하지 않는 level를 설정\n",
    "print(fx) # 존재하지 않는 값에 대한 level도 설정 가능"
   ]
  },
  {
   "cell_type": "code",
   "execution_count": 11,
   "id": "3d6f3e45-6aeb-4f9f-9b9b-27bf77f247b2",
   "metadata": {},
   "outputs": [
    {
     "name": "stdout",
     "output_type": "stream",
     "text": [
      "[1] male <NA> <NA> male\n",
      "Levels: none male\n"
     ]
    }
   ],
   "source": [
    "fx <- factor(x, levels=c(\"none\", \"male\")) # female의 level를 누락\n",
    "print(fx) # female이 NA로 대체"
   ]
  },
  {
   "cell_type": "code",
   "execution_count": 13,
   "id": "b1fd9fb3-e563-47c5-9b5b-c04df71ec7c6",
   "metadata": {},
   "outputs": [
    {
     "name": "stdout",
     "output_type": "stream",
     "text": [
      "[1] b a a b\n",
      "Levels: a b\n"
     ]
    }
   ],
   "source": [
    "fx <- factor(x , labels=c('a', 'b')) # labels를 설정\n",
    "print(fx) # male->b, female->a "
   ]
  },
  {
   "cell_type": "code",
   "execution_count": 14,
   "id": "46cceb6b-6912-4e69-b354-8366d0287ede",
   "metadata": {},
   "outputs": [
    {
     "ename": "ERROR",
     "evalue": "Error in factor(x, labels = c(\"a\", \"b\", \"c\")): invalid 'labels'; length 3 should be 1 or 2\n",
     "output_type": "error",
     "traceback": [
      "Error in factor(x, labels = c(\"a\", \"b\", \"c\")): invalid 'labels'; length 3 should be 1 or 2\nTraceback:\n",
      "1. factor(x, labels = c(\"a\", \"b\", \"c\"))",
      "2. stop(gettextf(\"invalid 'labels'; length %d should be 1 or %d\", \n .     nlab, length(levels)), domain = NA)"
     ]
    }
   ],
   "source": [
    "fx <- factor(x, labels=c(\"a\",\"b\",\"c\")) # labels를 level보다 많이 설정\n",
    "print(fx) # 에러 발생"
   ]
  },
  {
   "cell_type": "code",
   "execution_count": 15,
   "id": "3f1e68fa-449f-4075-bbe0-bc667fe7e763",
   "metadata": {},
   "outputs": [
    {
     "name": "stdout",
     "output_type": "stream",
     "text": [
      "[1] a2 a1 a1 a2\n",
      "Levels: a1 a2\n"
     ]
    }
   ],
   "source": [
    "fx <- factor(x, labels=c(\"a\")) # labels를 level보다 적게 설정\n",
    "print(fx) # level에 숫자에 맞춰 label를 생성"
   ]
  },
  {
   "cell_type": "code",
   "execution_count": 16,
   "id": "95e27c4a-4522-4ebb-81e5-f3f98730bcef",
   "metadata": {},
   "outputs": [
    {
     "ename": "ERROR",
     "evalue": "Error in factor(x, labels = c(\"a\", \"b\")): invalid 'labels'; length 2 should be 1 or 3\n",
     "output_type": "error",
     "traceback": [
      "Error in factor(x, labels = c(\"a\", \"b\")): invalid 'labels'; length 2 should be 1 or 3\nTraceback:\n",
      "1. factor(x, labels = c(\"a\", \"b\"))",
      "2. stop(gettextf(\"invalid 'labels'; length %d should be 1 or %d\", \n .     nlab, length(levels)), domain = NA)"
     ]
    }
   ],
   "source": [
    "x <- c(\"1\", \"2\", \"2\", \"3\", \"3\") # 3개의 범주를 가지는 벡터\n",
    "fx <- factor(x, labels=c(\"a\",\"b\")) # level보다 적게 labels를 생성\n",
    "print(fx) # 에러 발생"
   ]
  },
  {
   "cell_type": "code",
   "execution_count": 18,
   "id": "239c2b7f-759b-4332-b248-a2a5e8eccbc6",
   "metadata": {},
   "outputs": [
    {
     "name": "stdout",
     "output_type": "stream",
     "text": [
      "[1] c a a b b\n",
      "Levels: a b c\n"
     ]
    }
   ],
   "source": [
    "fx <- factor(x, levels=c(\"2\", \"3\", \"1\"), labels=c(\"a\", \"b\", \"c\")) # labels과 levels를 모두 설정\n",
    "print(fx) # 1->c, 2->a, 3->b로 변경\n",
    "# levels이 먼저 설정되고 labels이 설정된다."
   ]
  },
  {
   "cell_type": "code",
   "execution_count": 23,
   "id": "710f8a23-c8ba-40c4-9989-24448714e43a",
   "metadata": {},
   "outputs": [
    {
     "name": "stdout",
     "output_type": "stream",
     "text": [
      "[1] \"a\" \"b\" \"c\"\n",
      "[1] \"1\" \"2\" \"3\" \"4\" \"5\"\n"
     ]
    }
   ],
   "source": [
    "print(levels(fx)) # factor의 levels를 출력"
   ]
  },
  {
   "cell_type": "code",
   "execution_count": 24,
   "id": "29fb6024-b836-4c73-a2c2-95d10ef0ee83",
   "metadata": {
    "scrolled": true
   },
   "outputs": [
    {
     "name": "stdout",
     "output_type": "stream",
     "text": [
      "[1] o3 o1 o1 o2 o2\n",
      "Levels: o1 o2 o3\n"
     ]
    }
   ],
   "source": [
    "levels(fx) <- c(\"o1\", \"o2\", \"o3\") # factor의 levels를 변경\n",
    "print(fx) # factor생성시 labels를 변경하는 것과 동일"
   ]
  },
  {
   "cell_type": "code",
   "execution_count": 25,
   "id": "ad5e317e-ec1e-4dc7-9fba-bcbfafcb6c78",
   "metadata": {},
   "outputs": [
    {
     "name": "stdout",
     "output_type": "stream",
     "text": [
      "[1] 1 2 3 3 2 3\n",
      "Levels: 1 2 3\n"
     ]
    }
   ],
   "source": [
    "x <- c(1,2,3,3,2,3) # 숫자\n",
    "print(factor(x))"
   ]
  },
  {
   "cell_type": "code",
   "execution_count": 27,
   "id": "56fba41a-a89c-44ea-b916-79fad07cb9b3",
   "metadata": {},
   "outputs": [
    {
     "name": "stdout",
     "output_type": "stream",
     "text": [
      "[1] TRUE  FALSE TRUE \n",
      "Levels: FALSE TRUE\n"
     ]
    }
   ],
   "source": [
    "x <- c(TRUE, FALSE, TRUE) # logical\n",
    "print(factor(x)) # False, TRUE순으로 levels부여"
   ]
  },
  {
   "cell_type": "code",
   "execution_count": 30,
   "id": "82eb9091-ebfa-4a2b-87a0-a597cc3de6be",
   "metadata": {
    "scrolled": true
   },
   "outputs": [
    {
     "name": "stdout",
     "output_type": "stream",
     "text": [
      "[1] \"A\" \"B\" \"A\" NA  \"C\"\n",
      "[1] A    B    A    <NA> C   \n",
      "Levels: A B C\n"
     ]
    }
   ],
   "source": [
    "x <- c(\"A\", \"B\", \"A\", NA, NULL, \"C\") \n",
    "print(x) # NULL은 값으로 사용되지 않는다.\n",
    "print(factor(x)) # NA는 level로 생성되지 않는다."
   ]
  },
  {
   "cell_type": "code",
   "execution_count": 45,
   "id": "b98950ac-cba9-40b8-8364-323f909b4c39",
   "metadata": {},
   "outputs": [
    {
     "name": "stdout",
     "output_type": "stream",
     "text": [
      "[1] A    B    A    <NA> C   \n",
      "Levels: A < B < C\n"
     ]
    }
   ],
   "source": [
    "print(factor(x, ordered=TRUE)) # levels에 크기를 표시한다."
   ]
  },
  {
   "cell_type": "markdown",
   "id": "d36a1650-d3a1-4c66-bd55-bbcaed4a5164",
   "metadata": {},
   "source": [
    "## 3) 행렬(Matrix) & 배열(Array)"
   ]
  },
  {
   "cell_type": "markdown",
   "id": "e8b08b16-ed25-4db4-aa36-3cfcb27636d9",
   "metadata": {},
   "source": [
    "### [1] 행렬(Matrix)\n",
    "벡터(vector)에 행(row)와 열(col)을 추가한 데이터 타입"
   ]
  },
  {
   "cell_type": "code",
   "execution_count": null,
   "id": "580c5a82-b517-42c4-8960-0458991e80a7",
   "metadata": {},
   "outputs": [],
   "source": []
  },
  {
   "cell_type": "code",
   "execution_count": null,
   "id": "22cc1911-34a5-4519-be7f-e9657e87ab89",
   "metadata": {},
   "outputs": [],
   "source": []
  }
 ],
 "metadata": {
  "kernelspec": {
   "display_name": "R",
   "language": "R",
   "name": "ir"
  },
  "language_info": {
   "codemirror_mode": "r",
   "file_extension": ".r",
   "mimetype": "text/x-r-source",
   "name": "R",
   "pygments_lexer": "r",
   "version": "4.3.0"
  }
 },
 "nbformat": 4,
 "nbformat_minor": 5
}
